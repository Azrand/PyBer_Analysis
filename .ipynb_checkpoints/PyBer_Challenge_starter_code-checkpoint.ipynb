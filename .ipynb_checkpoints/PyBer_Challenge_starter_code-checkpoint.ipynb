{
 "cells": [
  {
   "cell_type": "markdown",
   "metadata": {},
   "source": [
    "# Pyber Challenge"
   ]
  },
  {
   "cell_type": "markdown",
   "metadata": {},
   "source": [
    "### 4.3 Loading and Reading CSV files"
   ]
  },
  {
   "cell_type": "code",
   "execution_count": 97,
   "metadata": {},
   "outputs": [],
   "source": [
    "# Add Matplotlib inline magic command\n",
    "%matplotlib inline\n",
    "# Dependencies and Setup\n",
    "import matplotlib.pyplot as plt\n",
    "import pandas as pd\n",
    "import locale\n",
    "\n",
    "locale.setlocale( locale.LC_ALL, 'English_United States.1252')\n",
    "# Made an assumption with that locale. Adjust as appropriate.\n",
    "locale._override_localeconv = {'n_sign_posn':1}\n",
    "\n",
    "# File to Load (Remember to change these)\n",
    "city_data_to_load = \"Resources/city_data.csv\"\n",
    "ride_data_to_load = \"Resources/ride_data.csv\"\n",
    "\n",
    "# Read the City and Ride Data\n",
    "city_data_df = pd.read_csv(city_data_to_load)\n",
    "ride_data_df = pd.read_csv(ride_data_to_load)"
   ]
  },
  {
   "cell_type": "markdown",
   "metadata": {},
   "source": [
    "### Merge the DataFrames"
   ]
  },
  {
   "cell_type": "code",
   "execution_count": 3,
   "metadata": {
    "scrolled": false
   },
   "outputs": [
    {
     "data": {
      "text/html": [
       "<div>\n",
       "<style scoped>\n",
       "    .dataframe tbody tr th:only-of-type {\n",
       "        vertical-align: middle;\n",
       "    }\n",
       "\n",
       "    .dataframe tbody tr th {\n",
       "        vertical-align: top;\n",
       "    }\n",
       "\n",
       "    .dataframe thead th {\n",
       "        text-align: right;\n",
       "    }\n",
       "</style>\n",
       "<table border=\"1\" class=\"dataframe\">\n",
       "  <thead>\n",
       "    <tr style=\"text-align: right;\">\n",
       "      <th></th>\n",
       "      <th>city</th>\n",
       "      <th>date</th>\n",
       "      <th>fare</th>\n",
       "      <th>ride_id</th>\n",
       "      <th>driver_count</th>\n",
       "      <th>type</th>\n",
       "    </tr>\n",
       "  </thead>\n",
       "  <tbody>\n",
       "    <tr>\n",
       "      <th>0</th>\n",
       "      <td>Lake Jonathanshire</td>\n",
       "      <td>2019-01-14 10:14:22</td>\n",
       "      <td>13.83</td>\n",
       "      <td>5739410935873</td>\n",
       "      <td>5</td>\n",
       "      <td>Urban</td>\n",
       "    </tr>\n",
       "    <tr>\n",
       "      <th>1</th>\n",
       "      <td>South Michelleport</td>\n",
       "      <td>2019-03-04 18:24:09</td>\n",
       "      <td>30.24</td>\n",
       "      <td>2343912425577</td>\n",
       "      <td>72</td>\n",
       "      <td>Urban</td>\n",
       "    </tr>\n",
       "    <tr>\n",
       "      <th>2</th>\n",
       "      <td>Port Samanthamouth</td>\n",
       "      <td>2019-02-24 04:29:00</td>\n",
       "      <td>33.44</td>\n",
       "      <td>2005065760003</td>\n",
       "      <td>57</td>\n",
       "      <td>Urban</td>\n",
       "    </tr>\n",
       "    <tr>\n",
       "      <th>3</th>\n",
       "      <td>Rodneyfort</td>\n",
       "      <td>2019-02-10 23:22:03</td>\n",
       "      <td>23.44</td>\n",
       "      <td>5149245426178</td>\n",
       "      <td>34</td>\n",
       "      <td>Urban</td>\n",
       "    </tr>\n",
       "    <tr>\n",
       "      <th>4</th>\n",
       "      <td>South Jack</td>\n",
       "      <td>2019-03-06 04:28:35</td>\n",
       "      <td>34.58</td>\n",
       "      <td>3908451377344</td>\n",
       "      <td>46</td>\n",
       "      <td>Urban</td>\n",
       "    </tr>\n",
       "  </tbody>\n",
       "</table>\n",
       "</div>"
      ],
      "text/plain": [
       "                 city                 date   fare        ride_id  \\\n",
       "0  Lake Jonathanshire  2019-01-14 10:14:22  13.83  5739410935873   \n",
       "1  South Michelleport  2019-03-04 18:24:09  30.24  2343912425577   \n",
       "2  Port Samanthamouth  2019-02-24 04:29:00  33.44  2005065760003   \n",
       "3          Rodneyfort  2019-02-10 23:22:03  23.44  5149245426178   \n",
       "4          South Jack  2019-03-06 04:28:35  34.58  3908451377344   \n",
       "\n",
       "   driver_count   type  \n",
       "0             5  Urban  \n",
       "1            72  Urban  \n",
       "2            57  Urban  \n",
       "3            34  Urban  \n",
       "4            46  Urban  "
      ]
     },
     "execution_count": 3,
     "metadata": {},
     "output_type": "execute_result"
    }
   ],
   "source": [
    "# Combine the data into a single dataset\n",
    "pyber_data_df = pd.merge(ride_data_df, city_data_df, how=\"left\", on=[\"city\", \"city\"])\n",
    "\n",
    "# Display the data table for preview\n",
    "pyber_data_df.head()"
   ]
  },
  {
   "cell_type": "markdown",
   "metadata": {},
   "source": [
    "## Deliverable 1: Get a Summary DataFrame "
   ]
  },
  {
   "cell_type": "code",
   "execution_count": 39,
   "metadata": {},
   "outputs": [
    {
     "data": {
      "text/plain": [
       "2375"
      ]
     },
     "execution_count": 39,
     "metadata": {},
     "output_type": "execute_result"
    }
   ],
   "source": [
    "# 1. Get the total rides for each city type\n",
    "\n",
    "# 1a. We must first create an individual data from for each city type. \n",
    "\n",
    "urban_cities_df = pyber_data_df[pyber_data_df[\"type\"] == \"Urban\"]\n",
    "suburban_cities_df = pyber_data_df[pyber_data_df[\"type\"] == \"Suburban\"]\n",
    "rural_cities_df = pyber_data_df[pyber_data_df[\"type\"] == \"Rural\"]\n",
    "\n",
    "# 1b. After creating the individual data type, we can extrapolate individual ride counts\n",
    "\n",
    "suburban_ride_count = suburban_cities_df.groupby([\"city\"]).count()[\"ride_id\"]\n",
    "rural_ride_count = rural_cities_df.groupby([\"city\"]).count()[\"ride_id\"]\n",
    "urban_ride_count = urban_cities_df.groupby([\"city\"]).count()[\"ride_id\"]\n",
    "\n",
    "# 1c. We then now combine by concatinating our Suburban, Rural, and Urban data frames into one df\n",
    "total_riders = [suburban_ride_count, rural_ride_count, urban_ride_count]\n",
    "\n",
    "total_rides = pd.concat(total_riders, axis=0, join=\"inner\",\n",
    "                         ignore_index=False,\n",
    "                         keys=None,    \n",
    "                         levels=None,\n",
    "                         names=None,\n",
    "                         verify_integrity=False,\n",
    "                         copy=True,)\n",
    "\n",
    "# 1d. We can now get the overall total rides for each city type\n",
    "total_rides.sum()"
   ]
  },
  {
   "cell_type": "code",
   "execution_count": 37,
   "metadata": {},
   "outputs": [
    {
     "data": {
      "text/plain": [
       "1625"
      ]
     },
     "execution_count": 37,
     "metadata": {},
     "output_type": "execute_result"
    }
   ],
   "source": [
    "# Total Uburban Rides\n",
    "\n",
    "urban_cities_df.groupby([\"city\"]).count()[\"ride_id\"].sum()"
   ]
  },
  {
   "cell_type": "code",
   "execution_count": 41,
   "metadata": {},
   "outputs": [
    {
     "data": {
      "text/plain": [
       "125"
      ]
     },
     "execution_count": 41,
     "metadata": {},
     "output_type": "execute_result"
    }
   ],
   "source": [
    "# Total Rural Rides\n",
    "rural_cities_df.groupby([\"city\"]).count()[\"ride_id\"].sum()"
   ]
  },
  {
   "cell_type": "code",
   "execution_count": 40,
   "metadata": {},
   "outputs": [
    {
     "data": {
      "text/plain": [
       "625"
      ]
     },
     "execution_count": 40,
     "metadata": {},
     "output_type": "execute_result"
    }
   ],
   "source": [
    "# Total Suburban Rides\n",
    "suburban_cities_df.groupby([\"city\"]).count()[\"ride_id\"].sum()"
   ]
  },
  {
   "cell_type": "code",
   "execution_count": 55,
   "metadata": {},
   "outputs": [
    {
     "data": {
      "text/plain": [
       "2973"
      ]
     },
     "execution_count": 55,
     "metadata": {},
     "output_type": "execute_result"
    }
   ],
   "source": [
    "# 2. Get the total drivers for each city type\n",
    "\n",
    "# 2a. Create individual data frames for driver counts\n",
    "\n",
    "urban_cities_df = city_data_df[city_data_df[\"type\"] == \"Urban\"]\n",
    "suburban_cities_df = city_data_df[city_data_df[\"type\"] == \"Suburban\"]\n",
    "rural_cities_df = city_data_df[city_data_df[\"type\"] == \"Rural\"]\n",
    "\n",
    "# 2b. Extrapolate individual ride counts\n",
    "\n",
    "suburban_driver_count = suburban_cities_df['driver_count']\n",
    "rural_driver_count = rural_cities_df['driver_count']\n",
    "urban_driver_count = urban_cities_df['driver_count']\n",
    "\n",
    "# 2c. We then now combine by concatinating our Suburban, Rural, and Urban data frames into one df\n",
    "total_driver = [suburban_driver_count, rural_driver_count, urban_driver_count]\n",
    "\n",
    "total_drivers = pd.concat(total_driver, axis=0, join=\"outer\",\n",
    "                         ignore_index=False,\n",
    "                         keys=None,    \n",
    "                         levels=None,\n",
    "                         names=None,\n",
    "                         verify_integrity=False,\n",
    "                         copy=True,)\n",
    "\n",
    "# 2c. We can now get the overall total drivers for each city type\n",
    "total_drivers.sum()"
   ]
  },
  {
   "cell_type": "code",
   "execution_count": 56,
   "metadata": {},
   "outputs": [
    {
     "data": {
      "text/plain": [
       "2405"
      ]
     },
     "execution_count": 56,
     "metadata": {},
     "output_type": "execute_result"
    }
   ],
   "source": [
    "# Total Uburban Drivers\n",
    "\n",
    "urban_cities_df['driver_count'].sum()"
   ]
  },
  {
   "cell_type": "code",
   "execution_count": 57,
   "metadata": {},
   "outputs": [
    {
     "data": {
      "text/plain": [
       "78"
      ]
     },
     "execution_count": 57,
     "metadata": {},
     "output_type": "execute_result"
    }
   ],
   "source": [
    "# Total Rural Drivers\n",
    "\n",
    "rural_cities_df['driver_count'].sum()"
   ]
  },
  {
   "cell_type": "code",
   "execution_count": 58,
   "metadata": {},
   "outputs": [
    {
     "data": {
      "text/plain": [
       "490"
      ]
     },
     "execution_count": 58,
     "metadata": {},
     "output_type": "execute_result"
    }
   ],
   "source": [
    "# Total Suburban Drivers\n",
    "\n",
    "suburban_cities_df['driver_count'].sum()"
   ]
  },
  {
   "cell_type": "code",
   "execution_count": 113,
   "metadata": {},
   "outputs": [
    {
     "name": "stdout",
     "output_type": "stream",
     "text": [
      "$63538.64\n"
     ]
    }
   ],
   "source": [
    "# 3. Get the sum of the fares for each city type\n",
    "\n",
    "sum_urban_cities_df = pyber_data_df[pyber_data_df[\"type\"] == \"Urban\"]\n",
    "sum_suburban_cities_df = pyber_data_df[pyber_data_df[\"type\"] == \"Suburban\"]\n",
    "sum_rural_cities_df = pyber_data_df[pyber_data_df[\"type\"] == \"Rural\"]\n",
    "\n",
    "# 4a. After creating the individual data type, we can extrapolate average fares\n",
    "\n",
    "suburban_sum_fare = sum_suburban_cities_df.groupby([\"city\"]).sum()[\"fare\"]\n",
    "rural_sum_fare = sum_rural_cities_df.groupby([\"city\"]).sum()[\"fare\"]\n",
    "urban_sum_fare = sum_urban_cities_df.groupby([\"city\"]).sum()[\"fare\"]\n",
    "\n",
    "# 4c. We then now combine by concatinating our Suburban, Rural, and Urban data frames into one df\n",
    "\n",
    "sum_fares = [suburban_sum_fare, rural_sum_fare, urban_sum_fare]\n",
    "\n",
    "sum_fare = pd.concat(sum_fares, axis=0, join=\"outer\",\n",
    "                         ignore_index=False,\n",
    "                         keys=None,    \n",
    "                         levels=None,\n",
    "                         names=None,\n",
    "                         verify_integrity=False,\n",
    "                         copy=True,)\n",
    "\n",
    "# 2d. We can now get the overall total fares for each city type\n",
    "print(f\"${round(sum_fare.sum(),2)}\")"
   ]
  },
  {
   "cell_type": "code",
   "execution_count": 114,
   "metadata": {},
   "outputs": [
    {
     "name": "stdout",
     "output_type": "stream",
     "text": [
      "$19356.33\n"
     ]
    }
   ],
   "source": [
    "# Total Sum for Suburban Rides\n",
    "\n",
    "print(f\"${round(suburban_sum_fare.sum(),2)}\")"
   ]
  },
  {
   "cell_type": "code",
   "execution_count": 116,
   "metadata": {},
   "outputs": [
    {
     "name": "stdout",
     "output_type": "stream",
     "text": [
      "$39854.38\n"
     ]
    }
   ],
   "source": [
    "# Total Sum for Urban Rides\n",
    "\n",
    "print(f\"${round(urban_sum_fare.sum(),2)}\")"
   ]
  },
  {
   "cell_type": "code",
   "execution_count": 117,
   "metadata": {},
   "outputs": [
    {
     "name": "stdout",
     "output_type": "stream",
     "text": [
      "$4327.93\n"
     ]
    }
   ],
   "source": [
    "# Total Sum for Rural Rides\n",
    "\n",
    "print(f\"${round(rural_sum_fare.sum(),2)}\")"
   ]
  },
  {
   "cell_type": "code",
   "execution_count": 119,
   "metadata": {},
   "outputs": [
    {
     "name": "stdout",
     "output_type": "stream",
     "text": [
      "$27.89\n"
     ]
    }
   ],
   "source": [
    "# 4. Get the average fare for each city type\n",
    "\n",
    "fare_urban_cities_df = pyber_data_df[pyber_data_df[\"type\"] == \"Urban\"]\n",
    "fare_suburban_cities_df = pyber_data_df[pyber_data_df[\"type\"] == \"Suburban\"]\n",
    "fare_rural_cities_df = pyber_data_df[pyber_data_df[\"type\"] == \"Rural\"]\n",
    "\n",
    "# 4a. After creating the individual data type, we can extrapolate average fares\n",
    "\n",
    "suburban_avg_fare = fare_suburban_cities_df.groupby([\"city\"]).mean()[\"fare\"]\n",
    "rural_avg_fare = fare_rural_cities_df.groupby([\"city\"]).mean()[\"fare\"]\n",
    "urban_avg_fare = fare_urban_cities_df.groupby([\"city\"]).mean()[\"fare\"]\n",
    "\n",
    "# 4c. We then now combine by concatinating our Suburban, Rural, and Urban data frames into one df\n",
    "\n",
    "avg_fares = [suburban_avg_fare, rural_avg_fare, urban_avg_fare]\n",
    "\n",
    "avg_fare = pd.concat(avg_fares, axis=0, join=\"outer\",\n",
    "                         ignore_index=False,\n",
    "                         keys=None,    \n",
    "                         levels=None,\n",
    "                         names=None,\n",
    "                         verify_integrity=False,\n",
    "                         copy=True,)\n",
    "\n",
    "# 2d. We can now get the overall average fares for each city type\n",
    "print(f\"${round(avg_fare.mean(),2)}\")"
   ]
  },
  {
   "cell_type": "code",
   "execution_count": 120,
   "metadata": {},
   "outputs": [
    {
     "name": "stdout",
     "output_type": "stream",
     "text": [
      "$30.74\n"
     ]
    }
   ],
   "source": [
    "# Average Suburban Rides\n",
    "\n",
    "print(f\"${round(suburban_avg_fare.mean(),2)}\")"
   ]
  },
  {
   "cell_type": "code",
   "execution_count": 121,
   "metadata": {},
   "outputs": [
    {
     "name": "stdout",
     "output_type": "stream",
     "text": [
      "$24.5\n"
     ]
    }
   ],
   "source": [
    "# Average Urban Rides\n",
    "\n",
    "print(f\"${round(urban_avg_fare.mean(),2)}\")"
   ]
  },
  {
   "cell_type": "code",
   "execution_count": 122,
   "metadata": {},
   "outputs": [
    {
     "name": "stdout",
     "output_type": "stream",
     "text": [
      "$34.64\n"
     ]
    }
   ],
   "source": [
    "# Average Rural Rides\n",
    "\n",
    "print(f\"${round(rural_avg_fare.mean(),2)}\")"
   ]
  },
  {
   "cell_type": "code",
   "execution_count": 151,
   "metadata": {},
   "outputs": [
    {
     "name": "stdout",
     "output_type": "stream",
     "text": [
      "$11.52\n"
     ]
    }
   ],
   "source": [
    "# 5. Get the average fare per driver for each city type. \n",
    "\n",
    "urban_cities_df = city_data_df[city_data_df[\"type\"] == \"Urban\"]\n",
    "suburban_cities_df = city_data_df[city_data_df[\"type\"] == \"Suburban\"]\n",
    "rural_cities_df = city_data_df[city_data_df[\"type\"] == \"Rural\"]\n",
    "\n",
    "# 2b. Extrapolate individual ride counts\n",
    "\n",
    "suburban_driver_count = suburban_cities_df['driver_count']\n",
    "rural_driver_count = rural_cities_df['driver_count']\n",
    "urban_driver_count = urban_cities_df['driver_count']\n",
    "\n",
    "# 4a. Still using the individual data type for the total and average fares,\n",
    "#     we can extrapolate average for each driver with each city type\n",
    "\n",
    "driver_suburban_avg_fare = (fare_suburban_cities_df.groupby([\"city\"]).sum()[\"fare\"] / suburban_driver_count.count())\n",
    "driver_rural_avg_fare = (fare_rural_cities_df.groupby([\"city\"]).sum()[\"fare\"] / rural_driver_count.count())\n",
    "driver_urban_avg_fare = (fare_urban_cities_df.groupby([\"city\"]).sum()[\"fare\"] / urban_driver_count.count())\n",
    "\n",
    "# 4c. We then now combine by concatinating our Suburban, Rural, and Urban data frames into one df\n",
    "\n",
    "avg_driver_fares = [driver_suburban_avg_fare, driver_rural_avg_fare, driver_urban_avg_fare]\n",
    "\n",
    "avg_driver_fare = pd.concat(avg_driver_fares, axis=0, join=\"outer\",\n",
    "                         ignore_index=False,\n",
    "                         keys=None,    \n",
    "                         levels=None,\n",
    "                         names=None,\n",
    "                         verify_integrity=False,\n",
    "                         copy=True,)\n",
    "\n",
    "# 2d. We can now get the overall average fares for each city type\n",
    "print(f\"${round(avg_driver_fare.mean(),2)}\")"
   ]
  },
  {
   "cell_type": "code",
   "execution_count": 152,
   "metadata": {},
   "outputs": [
    {
     "name": "stdout",
     "output_type": "stream",
     "text": [
      "$14.94\n"
     ]
    }
   ],
   "source": [
    "# Total ovrall Average for Suburban drivers\n",
    "\n",
    "print(f\"${round(driver_suburban_avg_fare.mean(),2)}\")"
   ]
  },
  {
   "cell_type": "code",
   "execution_count": 153,
   "metadata": {},
   "outputs": [
    {
     "name": "stdout",
     "output_type": "stream",
     "text": [
      "$9.15\n"
     ]
    }
   ],
   "source": [
    "# Total ovrall Average for Urban drivers\n",
    "\n",
    "print(f\"${round(driver_urban_avg_fare.mean(),2)}\")"
   ]
  },
  {
   "cell_type": "code",
   "execution_count": 154,
   "metadata": {},
   "outputs": [
    {
     "name": "stdout",
     "output_type": "stream",
     "text": [
      "$13.36\n"
     ]
    }
   ],
   "source": [
    "# Total ovrall Average for Rural drivers\n",
    "\n",
    "print(f\"${round(driver_rural_avg_fare.mean(),2)}\")"
   ]
  },
  {
   "cell_type": "code",
   "execution_count": 156,
   "metadata": {},
   "outputs": [],
   "source": [
    "# Average fare per Suburban drivers"
   ]
  },
  {
   "cell_type": "code",
   "execution_count": null,
   "metadata": {},
   "outputs": [],
   "source": []
  },
  {
   "cell_type": "code",
   "execution_count": null,
   "metadata": {},
   "outputs": [],
   "source": []
  },
  {
   "cell_type": "code",
   "execution_count": 8,
   "metadata": {},
   "outputs": [],
   "source": [
    "#  6. Create a PyBer summary DataFrame. \n"
   ]
  },
  {
   "cell_type": "code",
   "execution_count": 9,
   "metadata": {},
   "outputs": [],
   "source": [
    "#  7. Cleaning up the DataFrame. Delete the index name\n",
    "pyber_summary_df.index.name = None"
   ]
  },
  {
   "cell_type": "code",
   "execution_count": 10,
   "metadata": {},
   "outputs": [],
   "source": [
    "#  8. Format the columns.\n"
   ]
  },
  {
   "cell_type": "markdown",
   "metadata": {},
   "source": [
    "## Deliverable 2.  Create a multiple line plot that shows the total weekly of the fares for each type of city."
   ]
  },
  {
   "cell_type": "code",
   "execution_count": 11,
   "metadata": {},
   "outputs": [],
   "source": [
    "# 1. Read the merged DataFrame\n"
   ]
  },
  {
   "cell_type": "code",
   "execution_count": 12,
   "metadata": {},
   "outputs": [],
   "source": [
    "# 2. Using groupby() to create a new DataFrame showing the sum of the fares \n",
    "#  for each date where the indices are the city type and date.\n"
   ]
  },
  {
   "cell_type": "code",
   "execution_count": 13,
   "metadata": {},
   "outputs": [],
   "source": [
    "# 3. Reset the index on the DataFrame you created in #1. This is needed to use the 'pivot()' function.\n",
    "# df = df.reset_index()\n"
   ]
  },
  {
   "cell_type": "code",
   "execution_count": 14,
   "metadata": {},
   "outputs": [],
   "source": [
    "# 4. Create a pivot table with the 'date' as the index, the columns ='type', and values='fare' \n",
    "# to get the total fares for each type of city by the date. \n"
   ]
  },
  {
   "cell_type": "code",
   "execution_count": 15,
   "metadata": {},
   "outputs": [],
   "source": [
    "# 5. Create a new DataFrame from the pivot table DataFrame using loc on the given dates, '2019-01-01':'2019-04-29'.\n",
    "\n"
   ]
  },
  {
   "cell_type": "code",
   "execution_count": 16,
   "metadata": {},
   "outputs": [],
   "source": [
    "# 6. Set the \"date\" index to datetime datatype. This is necessary to use the resample() method in Step 8.\n",
    "# df.index = pd.to_datetime(df.index)"
   ]
  },
  {
   "cell_type": "code",
   "execution_count": 17,
   "metadata": {},
   "outputs": [],
   "source": [
    "# 7. Check that the datatype for the index is datetime using df.info()\n"
   ]
  },
  {
   "cell_type": "code",
   "execution_count": 18,
   "metadata": {},
   "outputs": [],
   "source": [
    "# 8. Create a new DataFrame using the \"resample()\" function by week 'W' and get the sum of the fares for each week.\n"
   ]
  },
  {
   "cell_type": "code",
   "execution_count": 19,
   "metadata": {},
   "outputs": [],
   "source": [
    "# 8. Using the object-oriented interface method, plot the resample DataFrame using the df.plot() function. \n",
    "\n",
    "# Import the style from Matplotlib.\n",
    "from matplotlib import style\n",
    "# Use the graph style fivethirtyeight.\n",
    "style.use('fivethirtyeight')\n",
    "\n"
   ]
  },
  {
   "cell_type": "code",
   "execution_count": null,
   "metadata": {},
   "outputs": [],
   "source": []
  }
 ],
 "metadata": {
  "anaconda-cloud": {},
  "kernelspec": {
   "display_name": "Python 3 (ipykernel)",
   "language": "python",
   "name": "python3"
  },
  "language_info": {
   "codemirror_mode": {
    "name": "ipython",
    "version": 3
   },
   "file_extension": ".py",
   "mimetype": "text/x-python",
   "name": "python",
   "nbconvert_exporter": "python",
   "pygments_lexer": "ipython3",
   "version": "3.9.12"
  }
 },
 "nbformat": 4,
 "nbformat_minor": 2
}
